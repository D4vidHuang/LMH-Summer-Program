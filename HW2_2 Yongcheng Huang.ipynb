{
  "cells": [
    {
      "cell_type": "markdown",
      "metadata": {
        "id": "t3KME_IcWgR3"
      },
      "source": [
        "Part 1: Implement logistic regression with Stochatic Gradient decent 使用SGD完成逻辑回归\n",
        "\n",
        "Part 2: Implement logistic regression with SGD with momentum 使用带有动量的SGD完成逻辑回归"
      ]
    },
    {
      "cell_type": "code",
      "execution_count": 17,
      "metadata": {
        "id": "cLcvhf0RAnKR"
      },
      "outputs": [],
      "source": [
        "import numpy as np\n",
        "import matplotlib.pyplot as plt\n",
        "\n",
        "%matplotlib inline"
      ]
    },
    {
      "cell_type": "code",
      "execution_count": 18,
      "metadata": {
        "id": "pk9S9C_QAu_I"
      },
      "outputs": [],
      "source": [
        "def plotClass(X,y,p):\n",
        "    #plt.figure()\n",
        "    for i in range(y.shape[1]):\n",
        "        if y[0,i]==0:\n",
        "            plt.plot(X[0,i],X[1,i],'r'+p)\n",
        "        else:\n",
        "            plt.plot(X[0,i],X[1,i],'b'+p)\n",
        "            \n",
        "    #plt.show()"
      ]
    },
    {
      "cell_type": "code",
      "execution_count": 19,
      "metadata": {
        "colab": {
          "base_uri": "https://localhost:8080/",
          "height": 316
        },
        "id": "vN0hzaUyAxWW",
        "outputId": "b6c9c6cf-04cf-4e91-fe3c-38bbece5746e"
      },
      "outputs": [
        {
          "name": "stdout",
          "output_type": "stream",
          "text": [
            "(2, 200)\n",
            "(1, 200)\n",
            "(200, 2) (200, 1)\n"
          ]
        },
        {
          "data": {
            "image/png": "[encoded data removed]",
            "text/plain": [
              "<Figure size 432x288 with 1 Axes>"
            ]
          },
          "metadata": {
            "needs_background": "light"
          },
          "output_type": "display_data"
        }
      ],
      "source": [
        "num_data=100 # data points per class\n",
        "\n",
        "x1=np.random.randn(2,num_data)+4\n",
        "x0=np.random.randn(2,num_data)\n",
        "\n",
        "y1=np.ones((1,num_data))\n",
        "y0=np.zeros((1,num_data))\n",
        "\n",
        "X=np.concatenate((x1,x0),axis=1)\n",
        "y=np.concatenate((y1,y0), axis=1)\n",
        "plotClass(X,y,'o')\n",
        "print(X.shape)\n",
        "print(y.shape)\n",
        "\n",
        "X = X.T\n",
        "y = y.T\n",
        "print(X.shape, y.shape)"
      ]
    },
    {
      "cell_type": "code",
      "execution_count": 20,
      "metadata": {
        "colab": {
          "base_uri": "https://localhost:8080/"
        },
        "id": "dW2L45TTgCBH",
        "outputId": "f3f30814-3abe-4d12-b5b3-927b5bca19fe"
      },
      "outputs": [
        {
          "name": "stdout",
          "output_type": "stream",
          "text": [
            "(200, 2) (200, 1)\n"
          ]
        }
      ],
      "source": [
        "print(X.shape, y.shape)"
      ]
    },
    {
      "cell_type": "code",
      "execution_count": 21,
      "metadata": {
        "id": "0WMffSVigrCc"
      },
      "outputs": [],
      "source": [
        "#stochastic Gradient Decent\n",
        "def get_z(X, w, b):\n",
        "  return X @ w + b\n",
        "\n",
        "def sigmoid(z):\n",
        "  return 1/(1 + np.exp(-z))\n",
        "\n",
        "def get_loss(y, yhat):\n",
        "  return np.sum(-y * np.log(yhat) - (1 - y) * np.log(1 - yhat), axis = 0)"
      ]
    },
    {
      "cell_type": "code",
      "execution_count": 22,
      "metadata": {
        "colab": {
          "base_uri": "https://localhost:8080/",
          "height": 265
        },
        "id": "ZiSj6RfXg6XR",
        "outputId": "46fe82fb-3b7c-4289-a72d-9d687083ad48"
      },
      "outputs": [
        {
          "data": {
            "image/png": "[encoded data removed]",
            "text/plain": [
              "<Figure size 432x288 with 1 Axes>"
            ]
          },
          "metadata": {
            "needs_background": "light"
          },
          "output_type": "display_data"
        }
      ],
      "source": [
        "ni = X.shape[1]\n",
        "no = y.shape[1]\n",
        "\n",
        "w = np.random.randn(ni, no)\n",
        "b = 0\n",
        "\n",
        "lr = 1e-1\n",
        "ls = []\n",
        "for i in range(1000):\n",
        "  # dJ / d yhat ---> dyhat\n",
        "  # dJ / dz ---> dz\n",
        "  # dJ / dw ---> dw\n",
        "  # dJ / db ---> db\n",
        "\n",
        "  #forward pass(给定输入找输出)\n",
        "  temp = np.random.randint(0, 199, 10)\n",
        "  X_1 = X[temp, :]\n",
        "  y_1 = y[temp, :]\n",
        "\n",
        "  Z = get_z(X_1, w, b)\n",
        "\n",
        "  yhat = sigmoid(Z)\n",
        "\n",
        "  loss = get_loss(y_1, yhat)\n",
        "\n",
        "  ls.append(loss)\n",
        "\n",
        "  #backward pass\n",
        "  dz = yhat - y_1\n",
        "\n",
        "  #dJ/dW = [dJ/dyhat * dyhat/z] * dz/dW\n",
        "  #dJ/dW = [dz] * dz/dw\n",
        "  #dz/dw = X.T\n",
        "\n",
        "  dw = X_1.T @ dz\n",
        "\n",
        "  db = np.sum(dz, axis = 0, keepdims = True)\n",
        "\n",
        "  #weight update\n",
        "  w -= lr*dw\n",
        "  b -= lr*db\n",
        "\n",
        "plt.plot(ls)\n",
        "\n",
        "Z_1 = get_z(X, w, b)\n",
        "yhat_1 = sigmoid(Z_1)\n"
      ]
    },
    {
      "cell_type": "code",
      "execution_count": 23,
      "metadata": {
        "colab": {
          "base_uri": "https://localhost:8080/",
          "height": 282
        },
        "id": "PjFCm6k1h9CR",
        "outputId": "7a2ff2ed-2b1a-439e-e19c-d3139b8f6865"
      },
      "outputs": [
        {
          "data": {
            "text/plain": [
              "[<matplotlib.lines.Line2D at 0x1192c7490>]"
            ]
          },
          "execution_count": 23,
          "metadata": {},
          "output_type": "execute_result"
        },
        {
          "data": {
            "image/png": "[encoded data removed]",
            "text/plain": [
              "<Figure size 432x288 with 2 Axes>"
            ]
          },
          "metadata": {
            "needs_background": "light"
          },
          "output_type": "display_data"
        }
      ],
      "source": [
        "plt.figure()\n",
        "plt.subplot(121)\n",
        "plotClass(X.T,y.T,'o')\n",
        "plt.subplot(122)\n",
        "plotClass(X.T,yhat_1.T>0.5,'x')\n",
        "\n",
        "#w1 * x1 + w2 * x2 + b = 0\n",
        "x1 = np.linspace(-2, 4, 10)\n",
        "x2 = (-b - w[0, 0]*x1) / w[1, 0]\n",
        "plt.plot(x1, x2.squeeze())\n",
        "plt.plot([0 , w[0, 0]], [0, w[1, 0]], 'g')"
      ]
    },
    {
      "cell_type": "code",
      "execution_count": 24,
      "metadata": {
        "colab": {
          "base_uri": "https://localhost:8080/",
          "height": 581
        },
        "id": "EUsrUnZ5vJ5N",
        "outputId": "e5c2eee9-33be-421e-c39e-0e4a8e225eca"
      },
      "outputs": [
        {
          "name": "stdout",
          "output_type": "stream",
          "text": [
            "(2, 200)\n",
            "(1, 200)\n",
            "(200, 2) (200, 1)\n"
          ]
        },
        {
          "data": {
            "text/plain": [
              "[<matplotlib.lines.Line2D at 0x1282157b0>]"
            ]
          },
          "execution_count": 24,
          "metadata": {},
          "output_type": "execute_result"
        },
        {
          "data": {
            "image/png": "[encoded data removed]",
            "text/plain": [
              "<Figure size 432x288 with 1 Axes>"
            ]
          },
          "metadata": {
            "needs_background": "light"
          },
          "output_type": "display_data"
        },
        {
          "data": {
            "image/png": "[encoded data removed]",
            "text/plain": [
              "<Figure size 432x288 with 2 Axes>"
            ]
          },
          "metadata": {
            "needs_background": "light"
          },
          "output_type": "display_data"
        }
      ],
      "source": [
        "import numpy as np\n",
        "import matplotlib.pyplot as plt\n",
        "\n",
        "%matplotlib inline\n",
        "def plotClass(X,y,p):\n",
        "    #plt.figure()\n",
        "    for i in range(y.shape[1]):\n",
        "        if y[0,i]==0:\n",
        "            plt.plot(X[0,i],X[1,i],'r'+p)\n",
        "        else:\n",
        "            plt.plot(X[0,i],X[1,i],'b'+p)\n",
        "            \n",
        "    #plt.show()\n",
        "\n",
        "num_data=100 # data points per class\n",
        "\n",
        "x1=np.random.randn(2,num_data)+4\n",
        "x0=np.random.randn(2,num_data)\n",
        "\n",
        "y1=np.ones((1,num_data))\n",
        "y0=np.zeros((1,num_data))\n",
        "\n",
        "X=np.concatenate((x1,x0),axis=1)\n",
        "y=np.concatenate((y1,y0), axis=1)\n",
        "#plotClass(X,y,'o')\n",
        "print(X.shape)\n",
        "print(y.shape)\n",
        "\n",
        "X = X.T\n",
        "y = y.T\n",
        "print(X.shape, y.shape)\n",
        "\n",
        "#stochastic Gradient Decent\n",
        "def get_z(X, w, b):\n",
        "  return X @ w + b\n",
        "\n",
        "def sigmoid(z):\n",
        "  return 1/(1 + np.exp(-z))\n",
        "\n",
        "def get_loss(y, yhat):\n",
        "  return np.sum(-y * np.log(yhat) - (1 - y) * np.log(1 - yhat), axis = 0)\n",
        "\n",
        "ni = X.shape[1]\n",
        "no = y.shape[1]\n",
        "\n",
        "w = np.random.randn(ni, no)\n",
        "b = 0\n",
        "\n",
        "lw = 0.5\n",
        "vw = 0\n",
        "vb = 0\n",
        "lr = 1e-1\n",
        "ls = []\n",
        "for i in range(1000):\n",
        "  # dJ / d yhat ---> dyhat\n",
        "  # dJ / dz ---> dz\n",
        "  # dJ / dw ---> dw\n",
        "  # dJ / db ---> db\n",
        "\n",
        "  #forward pass(给定输入找输出)\n",
        "  temp = np.random.randint(0, 199, 10)\n",
        "  X_1 = X[temp, :]\n",
        "  y_1 = y[temp, :]\n",
        "\n",
        "  Z = get_z(X_1, w, b)\n",
        "\n",
        "  yhat = sigmoid(Z)\n",
        "\n",
        "  loss = get_loss(y_1, yhat)\n",
        "\n",
        "  ls.append(loss)\n",
        "\n",
        "  #backward pass\n",
        "  dz = yhat - y_1\n",
        "\n",
        "  #dJ/dW = [dJ/dyhat * dyhat/z] * dz/dW\n",
        "  #dJ/dW = [dz] * dz/dw\n",
        "  #dz/dw = X.T\n",
        "\n",
        "  dw = X_1.T @ dz\n",
        "\n",
        "  db = np.sum(dz, axis = 0, keepdims = True)\n",
        "\n",
        "  #weight update\n",
        "  vw = lw * vw - (1 - lw) * dw\n",
        "  vb = lw * vb - (1 - lw) * db\n",
        "  w += lr*vw\n",
        "  b += lr*vb\n",
        "\n",
        "plt.plot(ls)\n",
        "\n",
        "Z_1 = get_z(X, w, b)\n",
        "yhat_1 = sigmoid(Z_1)\n",
        "\n",
        "\n",
        "plt.figure()\n",
        "plt.subplot(121)\n",
        "plotClass(X.T,y.T,'o')\n",
        "plt.subplot(122)\n",
        "plotClass(X.T,yhat_1.T>0.5,'x')\n",
        "\n",
        "#w1 * x1 + w2 * x2 + b = 0\n",
        "x1 = np.linspace(-2, 4, 10)\n",
        "x2 = (-b - w[0, 0]*x1) / w[1, 0]\n",
        "plt.plot(x1, x2.squeeze())\n",
        "plt.plot([0 , w[0, 0]], [0, w[1, 0]], 'g')"
      ]
    }
  ],
  "metadata": {
    "colab": {
      "collapsed_sections": [],
      "name": "HW2_2.ipynb",
      "provenance": []
    },
    "kernelspec": {
      "display_name": "Python 3.10.4 64-bit",
      "language": "python",
      "name": "python3"
    },
    "language_info": {
      "codemirror_mode": {
        "name": "ipython",
        "version": 3
      },
      "file_extension": ".py",
      "mimetype": "text/x-python",
      "name": "python",
      "nbconvert_exporter": "python",
      "pygments_lexer": "ipython3",
      "version": "3.10.4"
    },
    "vscode": {
      "interpreter": {
        "hash": "aee8b7b246df8f9039afb4144a1f6fd8d2ca17a180786b69acc140d282b71a49"
      }
    }
  },
  "nbformat": 4,
  "nbformat_minor": 0
}
