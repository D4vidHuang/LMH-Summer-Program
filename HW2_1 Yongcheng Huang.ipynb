{
  "cells": [
    {
      "cell_type": "markdown",
      "metadata": {
        "id": "WZtG92zNWJXw"
      },
      "source": [
        "Part 1: Find a linear classifier using logistic regression to classify the data 使用逻辑回归找到线性分类器对数据进行分类\n",
        "\n",
        "Part 2: Plot the decsion boundary along with the data 绘制决策边界\n",
        "\n",
        "Part 3: Plot the normal of the decision boundary 绘制决策边界的法线"
      ]
    },
    {
      "cell_type": "code",
      "execution_count": 18,
      "metadata": {
        "id": "QfFeTo_P-mTF"
      },
      "outputs": [],
      "source": [
        "import numpy as np\n",
        "import matplotlib.pyplot as plt\n",
        "\n",
        "%matplotlib inline"
      ]
    },
    {
      "cell_type": "code",
      "execution_count": 19,
      "metadata": {
        "id": "njYxETX4-qTk"
      },
      "outputs": [],
      "source": [
        "def plotClass(X,y,p):\n",
        "    for i in range(y.shape[1]):\n",
        "        if y[0,i]==0:\n",
        "            plt.plot(X[0,i],X[1,i],'r'+p)\n",
        "        else:\n",
        "            plt.plot(X[0,i],X[1,i],'b'+p)"
      ]
    },
    {
      "cell_type": "code",
      "execution_count": 20,
      "metadata": {
        "colab": {
          "base_uri": "https://localhost:8080/",
          "height": 301
        },
        "id": "GKX3U7L0-rZl",
        "outputId": "5e19c763-d23b-4c91-fefd-21be362169a1"
      },
      "outputs": [
        {
          "data": {
            "image/png": "[encoded data removed]",
            "text/plain": [
              "<Figure size 432x288 with 1 Axes>"
            ]
          },
          "metadata": {
            "needs_background": "light"
          },
          "output_type": "display_data"
        }
      ],
      "source": [
        "num_data=100 # data points per class\n",
        "\n",
        "x1=np.random.randn(2,num_data)+2\n",
        "x0=np.random.randn(2,num_data)\n",
        "\n",
        "y1=np.ones((1,num_data))\n",
        "y0=np.zeros((1,num_data))\n",
        "\n",
        "X=np.concatenate((x1,x0),axis=1)\n",
        "y=np.concatenate((y1,y0), axis=1)\n",
        "plotClass(X,y,'o')"
      ]
    },
    {
      "cell_type": "code",
      "execution_count": 21,
      "metadata": {
        "id": "J-RoYLiO6uK4"
      },
      "outputs": [],
      "source": [
        "def get_z(X, w, b):\n",
        "  return w@X + b\n",
        "\n",
        "def sigmoid(z):\n",
        "  return 1/(1 + np.exp(-z))\n",
        "\n",
        "def get_loss(y, yhat):\n",
        "  return np.sum(-y * np.log(yhat) - (1 - y) * np.log(1 - yhat), axis = 1)"
      ]
    },
    {
      "cell_type": "code",
      "execution_count": 22,
      "metadata": {},
      "outputs": [],
      "source": [
        "ni = X.shape[0]\n",
        "no = y.shape[0]\n",
        "\n",
        "w = np.random.randn(no, ni)\n",
        "b = 0\n",
        "\n",
        "Z = get_z(X, w, b)\n",
        "#print(Z.shape)\n",
        "\n",
        "yhat = sigmoid(Z)\n",
        "#print(yhat)\n",
        "\n",
        "loss = get_loss(y, yhat)\n",
        "#print(loss)"
      ]
    },
    {
      "cell_type": "code",
      "execution_count": 23,
      "metadata": {},
      "outputs": [
        {
          "data": {
            "text/plain": [
              "[<matplotlib.lines.Line2D at 0x10cc1fca0>]"
            ]
          },
          "execution_count": 23,
          "metadata": {},
          "output_type": "execute_result"
        },
        {
          "data": {
            "image/png": "[encoded data removed]",
            "text/plain": [
              "<Figure size 432x288 with 1 Axes>"
            ]
          },
          "metadata": {
            "needs_background": "light"
          },
          "output_type": "display_data"
        }
      ],
      "source": [
        "lr = 1e-4\n",
        "ls = []\n",
        "for i in range(1000):\n",
        "  # dJ / d yhat ---> dyhat\n",
        "  # dJ / dz ---> dz\n",
        "  # dJ / dw ---> dw\n",
        "  # dJ / db ---> db\n",
        "\n",
        "  #forward pass(给定输入找输出)\n",
        "\n",
        "  Z = get_z(X, w, b)\n",
        "\n",
        "  yhat = sigmoid(Z)\n",
        "\n",
        "  loss = get_loss(y, yhat)\n",
        "\n",
        "  ls.append(loss)\n",
        "\n",
        "  #backward pass\n",
        "  dz = yhat - y\n",
        "\n",
        "  #dJ/dW = [dJ/dyhat * dyhat/z] * dz/dW\n",
        "  #dJ/dW = [dz] * dz/dw\n",
        "  #dz/dw = X.T\n",
        "\n",
        "  dw = dz @ X.T\n",
        "\n",
        "  db = np.sum(dz, axis = 1, keepdims = True)\n",
        "\n",
        "  #weight update\n",
        "  w -= lr*dw\n",
        "  b -= lr*db\n",
        "\n",
        "plt.plot(ls)"
      ]
    },
    {
      "cell_type": "code",
      "execution_count": 24,
      "metadata": {},
      "outputs": [
        {
          "data": {
            "text/plain": [
              "[<matplotlib.lines.Line2D at 0x10f85d8d0>]"
            ]
          },
          "execution_count": 24,
          "metadata": {},
          "output_type": "execute_result"
        },
        {
          "data": {
            "image/png": "[encoded data removed]",
            "text/plain": [
              "<Figure size 432x288 with 2 Axes>"
            ]
          },
          "metadata": {
            "needs_background": "light"
          },
          "output_type": "display_data"
        }
      ],
      "source": [
        "plt.figure()\n",
        "plt.subplot(121)\n",
        "plotClass(X,y,'o')\n",
        "plt.subplot(122)\n",
        "plotClass(X,yhat>0.5,'x')\n",
        "\n",
        "#w1 * x1 + w2 * x2 + b = 0\n",
        "x1 = np.linspace(-2, 4, 10)\n",
        "x2 = (-b - w[0, 0]*x1) / w[0, 1]\n",
        "plt.plot(x1, x2.squeeze())\n",
        "plt.plot([0 , w[0, 0]], [0, w[0,1]], 'g')"
      ]
    }
  ],
  "metadata": {
    "colab": {
      "collapsed_sections": [],
      "name": "HW2_1.ipynb",
      "provenance": []
    },
    "kernelspec": {
      "display_name": "Python 3.10.4 64-bit",
      "language": "python",
      "name": "python3"
    },
    "language_info": {
      "codemirror_mode": {
        "name": "ipython",
        "version": 3
      },
      "file_extension": ".py",
      "mimetype": "text/x-python",
      "name": "python",
      "nbconvert_exporter": "python",
      "pygments_lexer": "ipython3",
      "version": "3.10.4"
    },
    "vscode": {
      "interpreter": {
        "hash": "aee8b7b246df8f9039afb4144a1f6fd8d2ca17a180786b69acc140d282b71a49"
      }
    }
  },
  "nbformat": 4,
  "nbformat_minor": 0
}
