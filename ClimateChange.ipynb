{
 "cells": [
  {
   "cell_type": "markdown",
   "metadata": {
    "id": "zyhxoD34plpu",
    "pycharm": {
     "name": "#%% md\n"
    }
   },
   "source": [
    "This example is motivated from an example where a carefully chose snapshot of data was used to prove that global temperatures are not increasing with time. \n",
    "\n",
    "You will solve linear regression (ax+b) for two snapshots of data to see if there is an average increase of tempearture with time or not."
   ]
  },
  {
   "cell_type": "code",
   "execution_count": 3,
   "metadata": {
    "id": "Dtn5afpwICOM",
    "pycharm": {
     "name": "#%%\n"
    }
   },
   "outputs": [],
   "source": [
    "import pandas as pd\n",
    "import numpy as np\n",
    "import matplotlib.pyplot as plt"
   ]
  },
  {
   "cell_type": "code",
   "execution_count": null,
   "metadata": {
    "colab": {
     "base_uri": "https://localhost:8080/"
    },
    "id": "ffjTwZt8INlB",
    "outputId": "4917897f-9f2a-4329-d4e3-36b23d73e2d0",
    "pycharm": {
     "name": "#%%\n"
    }
   },
   "outputs": [],
   "source": [
    "#data from: https://www.jpl.nasa.gov/edu/teach/activity/graphing-global-temperature-trends/\n",
    "!wget -O globalTemp.csv https://www.dropbox.com/s/w5n763mnroln66v/globalTemp.csv?dl=0"
   ]
  },
  {
   "cell_type": "code",
   "execution_count": null,
   "metadata": {
    "id": "jv1hb3IWIdUm",
    "pycharm": {
     "name": "#%%\n"
    }
   },
   "outputs": [],
   "source": [
    "df=pd.read_csv('globalTemp.csv')"
   ]
  },
  {
   "cell_type": "code",
   "execution_count": null,
   "metadata": {
    "colab": {
     "base_uri": "https://localhost:8080/",
     "height": 282
    },
    "id": "wjtbGAitIncx",
    "outputId": "d7e3564a-e02a-4b42-b934-fda962457d1e",
    "pycharm": {
     "name": "#%%\n"
    }
   },
   "outputs": [],
   "source": [
    "x = df['Year'].to_numpy()\n",
    "y = df['Actual Temp'].to_numpy()\n",
    "plt.plot(x,y)"
   ]
  },
  {
   "cell_type": "code",
   "execution_count": null,
   "metadata": {
    "colab": {
     "base_uri": "https://localhost:8080/",
     "height": 299
    },
    "id": "-j6VCeWNmIjL",
    "outputId": "8f1aa3d7-b443-43d0-94c6-fc286d8fa409",
    "pycharm": {
     "name": "#%%\n"
    }
   },
   "outputs": [],
   "source": [
    "#linear Regression here\n",
    "nb = 1\n",
    "X = []\n",
    "for i in range(nb+1):\n",
    "  X.append(x**i)\n",
    "\n",
    "x = np.reshape(x,(x.shape[0],1)) \n",
    "X = np.array(X).T\n",
    "w = np.linalg.inv(X.T@X) @ (X.T@y)\n",
    "yhat = X@w\n",
    "plt.plot(x, y, 'bo', x, yhat)"
   ]
  },
  {
   "cell_type": "code",
   "execution_count": null,
   "metadata": {
    "id": "T2mwBDMeIfBX",
    "pycharm": {
     "name": "#%%\n"
    }
   },
   "outputs": [],
   "source": [
    "df=df[(df['Year']>1943) & (df['Year']<1975)]\n",
    "x = df['Year'].to_numpy()\n",
    "y = df['Actual Temp'].to_numpy()"
   ]
  },
  {
   "cell_type": "code",
   "execution_count": null,
   "metadata": {
    "colab": {
     "base_uri": "https://localhost:8080/",
     "height": 299
    },
    "id": "7uBvmzeslxaN",
    "outputId": "5e735c01-735d-41c5-ab54-a06e5834d171",
    "pycharm": {
     "name": "#%%\n"
    }
   },
   "outputs": [],
   "source": [
    "#linear Regression here\n",
    "plt.plot(x,y)\n",
    "nb = 1\n",
    "X = []\n",
    "for i in range(nb+1):\n",
    "  X.append(x**i)\n",
    "\n",
    "x = np.reshape(x,(x.shape[0],1)) \n",
    "X = np.array(X).T\n",
    "w = np.linalg.inv(X.T@X) @ (X.T@y)\n",
    "yhat = X@w\n",
    "plt.plot(x, y, 'bo', x, yhat)"
   ]
  },
  {
   "cell_type": "markdown",
   "metadata": {
    "id": "Kg7Z0bgoxN1J",
    "pycharm": {
     "name": "#%% md\n"
    }
   },
   "source": [
    "**My result: There is actually an average increase.**"
   ]
  }
 ],
 "metadata": {
  "colab": {
   "collapsed_sections": [],
   "name": "ClimateChange.ipynb",
   "provenance": []
  },
  "kernelspec": {
   "display_name": "Python 3",
   "language": "python",
   "name": "python3"
  },
  "language_info": {
   "codemirror_mode": {
    "name": "ipython",
    "version": 3
   },
   "file_extension": ".py",
   "mimetype": "text/x-python",
   "name": "python",
   "nbconvert_exporter": "python",
   "pygments_lexer": "ipython3",
   "version": "3.9.5"
  }
 },
 "nbformat": 4,
 "nbformat_minor": 0
}
