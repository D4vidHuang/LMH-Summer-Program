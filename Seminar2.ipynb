{
 "cells": [
  {
   "cell_type": "code",
   "execution_count": 2,
   "metadata": {},
   "outputs": [
    {
     "data": {
      "text/plain": [
       "'1.23.1'"
      ]
     },
     "execution_count": 2,
     "metadata": {},
     "output_type": "execute_result"
    }
   ],
   "source": [
    "import numpy\n",
    "numpy.__version__"
   ]
  },
  {
   "cell_type": "code",
   "execution_count": 14,
   "metadata": {},
   "outputs": [
    {
     "name": "stdout",
     "output_type": "stream",
     "text": [
      "[1 2 3 4 5 6 7 8 9]\n",
      "[[1 2 3 4 5 6 7 8 9]]\n",
      "[1 2 3 3 2 1]\n"
     ]
    }
   ],
   "source": [
    "import numpy as np\n",
    "np.random.seed(0)\n",
    "'''\n",
    "x1 = np.arange(10)\n",
    "print(x1)\n",
    "\n",
    "#x[start:stop:step] slicing the array given\n",
    "print(x1[:5]) #print  first five values\n",
    "y = x1[0:9:2]\n",
    "print(x1[::2]) #print any other values\n",
    "print(y)\n",
    "'''\n",
    "\n",
    "#x1 = np.arange(1, 10).reshape(3,3) #change the shape of the array to a 3*3 matrix\n",
    "#print(x1)\n",
    "x2 = np.arange(1,10)\n",
    "print(x2)\n",
    "x2 = x2[np.newaxis, :]\n",
    "print(x2)\n",
    "\n",
    "x3 = [1, 2, 3] #make two arrays together\n",
    "x4 = [3, 2, 1]\n",
    "y = np.concatenate([x3, x4])\n",
    "print(y)"
   ]
  },
  {
   "cell_type": "code",
   "execution_count": 15,
   "metadata": {},
   "outputs": [
    {
     "name": "stdout",
     "output_type": "stream",
     "text": [
      "[ 5  6  7  8  9 10 11 12 13 14]\n"
     ]
    }
   ],
   "source": [
    "x = np.arange(10)\n",
    "y = np.add(x, 5)\n",
    "print(y)"
   ]
  },
  {
   "cell_type": "code",
   "execution_count": 1,
   "metadata": {},
   "outputs": [
    {
     "name": "stdout",
     "output_type": "stream",
     "text": [
      "(1, 3, 1)\n",
      "[[[0]\n",
      "  [1]\n",
      "  [2]]]\n"
     ]
    }
   ],
   "source": [
    "import numpy as np\n",
    "a = np.array([0, 1, 2])\n",
    "b = np.ones((3, 3))\n",
    "#print(a + b)  #broadcasting广播，a只有一行三列，所以a复制三次来和b一样大小从而实现相加\n",
    "\n",
    "#print(a + 5)\n",
    "\n",
    "x = np.arange(3)[np.newaxis, :, np.newaxis]\n",
    "print(x.shape)\n",
    "#print(x[1])\n",
    "print(x)"
   ]
  },
  {
   "cell_type": "markdown",
   "metadata": {},
   "source": [
    "All training data are split to three parts: Train, Test and Validation. \n"
   ]
  }
 ],
 "metadata": {
  "kernelspec": {
   "display_name": "Python 3.10.4 64-bit",
   "language": "python",
   "name": "python3"
  },
  "language_info": {
   "codemirror_mode": {
    "name": "ipython",
    "version": 3
   },
   "file_extension": ".py",
   "mimetype": "text/x-python",
   "name": "python",
   "nbconvert_exporter": "python",
   "pygments_lexer": "ipython3",
   "version": "3.10.4"
  },
  "orig_nbformat": 4,
  "vscode": {
   "interpreter": {
    "hash": "aee8b7b246df8f9039afb4144a1f6fd8d2ca17a180786b69acc140d282b71a49"
   }
  }
 },
 "nbformat": 4,
 "nbformat_minor": 2
}
