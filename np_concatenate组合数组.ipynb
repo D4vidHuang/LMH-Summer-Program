{
 "cells": [
  {
   "cell_type": "code",
   "execution_count": 1,
   "metadata": {},
   "outputs": [
    {
     "name": "stdout",
     "output_type": "stream",
     "text": [
      "(9,)\n",
      "(2, 3)\n",
      "(4, 3)\n",
      "(2, 6)\n"
     ]
    }
   ],
   "source": [
    "import numpy as np\n",
    "a=np.array([1,2,3])\n",
    "b=np.array([11,22,33])\n",
    "c=np.array([44,55,66])\n",
    "x1 = np.concatenate((a,b,c),axis=0)  # 默认情况下，axis=0可以不写\n",
    "#array([ 1,  2,  3, 11, 22, 33, 44, 55, 66]) #对于一维数组拼接，axis的值不影响最后的结果\n",
    "\n",
    "print(x1.shape)\n",
    " \n",
    "a=np.array([[1,2,3],[4,5,6]])\n",
    "b=np.array([[11,21,31],[7,8,9]])\n",
    "x2 = np.concatenate((a,b),axis=0)\n",
    "print(a.shape)\n",
    "#array([[ 1,  2,  3],\n",
    "       #[ 4,  5,  6],\n",
    "       #[11, 21, 31],\n",
    "       #[ 7,  8,  9]])\n",
    "\n",
    "print(x2.shape)       \n",
    " \n",
    "x3 = np.concatenate((a,b),axis=1)  #axis=1表示对应行的数组进行拼接\n",
    "#array([[ 1,  2,  3, 11, 21, 31],\n",
    "       #[ 4,  5,  6,  7,  8,  9]])\n",
    "\n",
    "print(x3.shape)"
   ]
  }
 ],
 "metadata": {
  "kernelspec": {
   "display_name": "Python 3.10.4 64-bit",
   "language": "python",
   "name": "python3"
  },
  "language_info": {
   "codemirror_mode": {
    "name": "ipython",
    "version": 3
   },
   "file_extension": ".py",
   "mimetype": "text/x-python",
   "name": "python",
   "nbconvert_exporter": "python",
   "pygments_lexer": "ipython3",
   "version": "3.10.4"
  },
  "orig_nbformat": 4,
  "vscode": {
   "interpreter": {
    "hash": "aee8b7b246df8f9039afb4144a1f6fd8d2ca17a180786b69acc140d282b71a49"
   }
  }
 },
 "nbformat": 4,
 "nbformat_minor": 2
}
