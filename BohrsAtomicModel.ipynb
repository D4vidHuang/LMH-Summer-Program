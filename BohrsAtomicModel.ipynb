{
 "cells": [
  {
   "cell_type": "code",
   "execution_count": 1,
   "metadata": {
    "colab": {
     "base_uri": "https://localhost:8080/",
     "height": 310
    },
    "id": "MVTNLbMT25BX",
    "outputId": "b4a7059f-a15d-433e-b8e4-5fa4fa5eab2a",
    "pycharm": {
     "name": "#%%\n"
    }
   },
   "outputs": [
    {
     "data": {
      "text/plain": [
       "[<matplotlib.lines.Line2D at 0x11c3e0430>,\n",
       " <matplotlib.lines.Line2D at 0x11c3e04f0>]"
      ]
     },
     "execution_count": 1,
     "metadata": {},
     "output_type": "execute_result"
    },
    {
     "data": {
      "image/png": "[encoded data removed]",
      "text/plain": [
       "<Figure size 432x288 with 1 Axes>"
      ]
     },
     "metadata": {
      "needs_background": "light"
     },
     "output_type": "display_data"
    }
   ],
   "source": [
    "#[Fictional Story] The data for the hydrogen spectrum was provided to a statistcain and he/She decided to use linear regression\n",
    "#model for finding the relation between the hydrogen spectrum and the hydrogen shell. The statistican wants to find the relatioship between \n",
    "#the shell from which the electron jumps (ni) to the first shell and the spatial frequency (sf). He/She tries to fit 2-7 order polynomial to the data.\n",
    "import numpy as np\n",
    "import matplotlib.pyplot as plt\n",
    "\n",
    "\n",
    "ni=np.arange(2,25)\n",
    "\n",
    "sf=[(1.1*10**7)*(1/(1)**2 -1/(i)**2) for i in ni] \n",
    "plt.plot(ni,sf,'.')\n",
    "#######\n",
    "nb = -4\n",
    "X = []\n",
    "for i in range(0, nb+1,-1):\n",
    "  X.append(1/ni**abs(i))\n",
    "\n",
    "ni = np.reshape(ni,(ni.shape[0],1)) \n",
    "X = np.array(X).T\n",
    "w = np.linalg.inv(X.T@X) @ (X.T@sf)\n",
    "yhat = X@w\n",
    "plt.plot(ni, sf, 'bo', ni, yhat)"
   ]
  }
 ],
 "metadata": {
  "colab": {
   "collapsed_sections": [],
   "name": "BohrsAtomicModel.ipynb",
   "provenance": []
  },
  "kernelspec": {
   "display_name": "Python 3.10.4 64-bit",
   "language": "python",
   "name": "python3"
  },
  "language_info": {
   "name": "python",
   "version": "3.10.4"
  },
  "vscode": {
   "interpreter": {
    "hash": "aee8b7b246df8f9039afb4144a1f6fd8d2ca17a180786b69acc140d282b71a49"
   }
  }
 },
 "nbformat": 4,
 "nbformat_minor": 0
}
