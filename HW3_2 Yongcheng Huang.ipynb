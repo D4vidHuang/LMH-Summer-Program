{
 "nbformat": 4,
 "nbformat_minor": 0,
 "metadata": {
  "colab": {
   "name": "“HW3_2.ipynb”的副本",
   "provenance": [],
   "collapsed_sections": []
  },
  "kernelspec": {
   "name": "python3",
   "display_name": "Python 3"
  },
  "language_info": {
   "name": "python"
  },
  "accelerator": "GPU",
  "gpuClass": "standard",
  "widgets": {
   "application/vnd.jupyter.widget-state+json": {
    "1d49e4e26c4949ab8fbc57f7ff241e2d": {
     "model_module": "@jupyter-widgets/controls",
     "model_name": "HBoxModel",
     "model_module_version": "2.0.0",
     "state": {
      "_dom_classes": [],
      "_model_module": "@jupyter-widgets/controls",
      "_model_module_version": "2.0.0",
      "_model_name": "HBoxModel",
      "_view_count": null,
      "_view_module": "@jupyter-widgets/controls",
      "_view_module_version": "2.0.0",
      "_view_name": "HBoxView",
      "box_style": "",
      "children": [
       "IPY_MODEL_6236dbfe59694124894b4fb9a9d1af88",
       "IPY_MODEL_79545b1049434b1ba8a7f6f44a4dc143",
       "IPY_MODEL_0d54ab78c22d403b8708636deb96227a"
      ],
      "layout": "IPY_MODEL_984401f374e54a8b8f972f364766ce25",
      "tabbable": null,
      "tooltip": null
     }
    },
    "6236dbfe59694124894b4fb9a9d1af88": {
     "model_module": "@jupyter-widgets/controls",
     "model_name": "HTMLModel",
     "model_module_version": "2.0.0",
     "state": {
      "_dom_classes": [],
      "_model_module": "@jupyter-widgets/controls",
      "_model_module_version": "2.0.0",
      "_model_name": "HTMLModel",
      "_view_count": null,
      "_view_module": "@jupyter-widgets/controls",
      "_view_module_version": "2.0.0",
      "_view_name": "HTMLView",
      "description": "",
      "description_allow_html": false,
      "layout": "IPY_MODEL_a276568e6e294cd1b0e0e45620b01c3b",
      "placeholder": "​",
      "style": "IPY_MODEL_1ef8b435bf34456fbe44a783e3f208da",
      "tabbable": null,
      "tooltip": null,
      "value": "100%"
     }
    },
    "79545b1049434b1ba8a7f6f44a4dc143": {
     "model_module": "@jupyter-widgets/controls",
     "model_name": "FloatProgressModel",
     "model_module_version": "2.0.0",
     "state": {
      "_dom_classes": [],
      "_model_module": "@jupyter-widgets/controls",
      "_model_module_version": "2.0.0",
      "_model_name": "FloatProgressModel",
      "_view_count": null,
      "_view_module": "@jupyter-widgets/controls",
      "_view_module_version": "2.0.0",
      "_view_name": "ProgressView",
      "bar_style": "success",
      "description": "",
      "description_allow_html": false,
      "layout": "IPY_MODEL_69894e62661d47bf9b4832a937bcaaea",
      "max": 170498071,
      "min": 0,
      "orientation": "horizontal",
      "style": "IPY_MODEL_2fe8058c0665453ab29dedfea9c7a2c7",
      "tabbable": null,
      "tooltip": null,
      "value": 170498071
     }
    },
    "0d54ab78c22d403b8708636deb96227a": {
     "model_module": "@jupyter-widgets/controls",
     "model_name": "HTMLModel",
     "model_module_version": "2.0.0",
     "state": {
      "_dom_classes": [],
      "_model_module": "@jupyter-widgets/controls",
      "_model_module_version": "2.0.0",
      "_model_name": "HTMLModel",
      "_view_count": null,
      "_view_module": "@jupyter-widgets/controls",
      "_view_module_version": "2.0.0",
      "_view_name": "HTMLView",
      "description": "",
      "description_allow_html": false,
      "layout": "IPY_MODEL_69ba24906fca420ab3a304001a719e14",
      "placeholder": "​",
      "style": "IPY_MODEL_b6649be4f9ac43649f24c206a3a659fc",
      "tabbable": null,
      "tooltip": null,
      "value": " 170498071/170498071 [00:01&lt;00:00, 105270348.33it/s]"
     }
    },
    "984401f374e54a8b8f972f364766ce25": {
     "model_module": "@jupyter-widgets/base",
     "model_name": "LayoutModel",
     "model_module_version": "2.0.0",
     "state": {
      "_model_module": "@jupyter-widgets/base",
      "_model_module_version": "2.0.0",
      "_model_name": "LayoutModel",
      "_view_count": null,
      "_view_module": "@jupyter-widgets/base",
      "_view_module_version": "2.0.0",
      "_view_name": "LayoutView",
      "align_content": null,
      "align_items": null,
      "align_self": null,
      "border_bottom": null,
      "border_left": null,
      "border_right": null,
      "border_top": null,
      "bottom": null,
      "display": null,
      "flex": null,
      "flex_flow": null,
      "grid_area": null,
      "grid_auto_columns": null,
      "grid_auto_flow": null,
      "grid_auto_rows": null,
      "grid_column": null,
      "grid_gap": null,
      "grid_row": null,
      "grid_template_areas": null,
      "grid_template_columns": null,
      "grid_template_rows": null,
      "height": null,
      "justify_content": null,
      "justify_items": null,
      "left": null,
      "margin": null,
      "max_height": null,
      "max_width": null,
      "min_height": null,
      "min_width": null,
      "object_fit": null,
      "object_position": null,
      "order": null,
      "overflow": null,
      "padding": null,
      "right": null,
      "top": null,
      "visibility": null,
      "width": null
     }
    },
    "a276568e6e294cd1b0e0e45620b01c3b": {
     "model_module": "@jupyter-widgets/base",
     "model_name": "LayoutModel",
     "model_module_version": "2.0.0",
     "state": {
      "_model_module": "@jupyter-widgets/base",
      "_model_module_version": "2.0.0",
      "_model_name": "LayoutModel",
      "_view_count": null,
      "_view_module": "@jupyter-widgets/base",
      "_view_module_version": "2.0.0",
      "_view_name": "LayoutView",
      "align_content": null,
      "align_items": null,
      "align_self": null,
      "border_bottom": null,
      "border_left": null,
      "border_right": null,
      "border_top": null,
      "bottom": null,
      "display": null,
      "flex": null,
      "flex_flow": null,
      "grid_area": null,
      "grid_auto_columns": null,
      "grid_auto_flow": null,
      "grid_auto_rows": null,
      "grid_column": null,
      "grid_gap": null,
      "grid_row": null,
      "grid_template_areas": null,
      "grid_template_columns": null,
      "grid_template_rows": null,
      "height": null,
      "justify_content": null,
      "justify_items": null,
      "left": null,
      "margin": null,
      "max_height": null,
      "max_width": null,
      "min_height": null,
      "min_width": null,
      "object_fit": null,
      "object_position": null,
      "order": null,
      "overflow": null,
      "padding": null,
      "right": null,
      "top": null,
      "visibility": null,
      "width": null
     }
    },
    "1ef8b435bf34456fbe44a783e3f208da": {
     "model_module": "@jupyter-widgets/controls",
     "model_name": "HTMLStyleModel",
     "model_module_version": "2.0.0",
     "state": {
      "_model_module": "@jupyter-widgets/controls",
      "_model_module_version": "2.0.0",
      "_model_name": "HTMLStyleModel",
      "_view_count": null,
      "_view_module": "@jupyter-widgets/base",
      "_view_module_version": "2.0.0",
      "_view_name": "StyleView",
      "background": null,
      "description_width": "",
      "font_size": null,
      "text_color": null
     }
    },
    "69894e62661d47bf9b4832a937bcaaea": {
     "model_module": "@jupyter-widgets/base",
     "model_name": "LayoutModel",
     "model_module_version": "2.0.0",
     "state": {
      "_model_module": "@jupyter-widgets/base",
      "_model_module_version": "2.0.0",
      "_model_name": "LayoutModel",
      "_view_count": null,
      "_view_module": "@jupyter-widgets/base",
      "_view_module_version": "2.0.0",
      "_view_name": "LayoutView",
      "align_content": null,
      "align_items": null,
      "align_self": null,
      "border_bottom": null,
      "border_left": null,
      "border_right": null,
      "border_top": null,
      "bottom": null,
      "display": null,
      "flex": null,
      "flex_flow": null,
      "grid_area": null,
      "grid_auto_columns": null,
      "grid_auto_flow": null,
      "grid_auto_rows": null,
      "grid_column": null,
      "grid_gap": null,
      "grid_row": null,
      "grid_template_areas": null,
      "grid_template_columns": null,
      "grid_template_rows": null,
      "height": null,
      "justify_content": null,
      "justify_items": null,
      "left": null,
      "margin": null,
      "max_height": null,
      "max_width": null,
      "min_height": null,
      "min_width": null,
      "object_fit": null,
      "object_position": null,
      "order": null,
      "overflow": null,
      "padding": null,
      "right": null,
      "top": null,
      "visibility": null,
      "width": null
     }
    },
    "2fe8058c0665453ab29dedfea9c7a2c7": {
     "model_module": "@jupyter-widgets/controls",
     "model_name": "ProgressStyleModel",
     "model_module_version": "2.0.0",
     "state": {
      "_model_module": "@jupyter-widgets/controls",
      "_model_module_version": "2.0.0",
      "_model_name": "ProgressStyleModel",
      "_view_count": null,
      "_view_module": "@jupyter-widgets/base",
      "_view_module_version": "2.0.0",
      "_view_name": "StyleView",
      "bar_color": null,
      "description_width": ""
     }
    },
    "69ba24906fca420ab3a304001a719e14": {
     "model_module": "@jupyter-widgets/base",
     "model_name": "LayoutModel",
     "model_module_version": "2.0.0",
     "state": {
      "_model_module": "@jupyter-widgets/base",
      "_model_module_version": "2.0.0",
      "_model_name": "LayoutModel",
      "_view_count": null,
      "_view_module": "@jupyter-widgets/base",
      "_view_module_version": "2.0.0",
      "_view_name": "LayoutView",
      "align_content": null,
      "align_items": null,
      "align_self": null,
      "border_bottom": null,
      "border_left": null,
      "border_right": null,
      "border_top": null,
      "bottom": null,
      "display": null,
      "flex": null,
      "flex_flow": null,
      "grid_area": null,
      "grid_auto_columns": null,
      "grid_auto_flow": null,
      "grid_auto_rows": null,
      "grid_column": null,
      "grid_gap": null,
      "grid_row": null,
      "grid_template_areas": null,
      "grid_template_columns": null,
      "grid_template_rows": null,
      "height": null,
      "justify_content": null,
      "justify_items": null,
      "left": null,
      "margin": null,
      "max_height": null,
      "max_width": null,
      "min_height": null,
      "min_width": null,
      "object_fit": null,
      "object_position": null,
      "order": null,
      "overflow": null,
      "padding": null,
      "right": null,
      "top": null,
      "visibility": null,
      "width": null
     }
    },
    "b6649be4f9ac43649f24c206a3a659fc": {
     "model_module": "@jupyter-widgets/controls",
     "model_name": "HTMLStyleModel",
     "model_module_version": "2.0.0",
     "state": {
      "_model_module": "@jupyter-widgets/controls",
      "_model_module_version": "2.0.0",
      "_model_name": "HTMLStyleModel",
      "_view_count": null,
      "_view_module": "@jupyter-widgets/base",
      "_view_module_version": "2.0.0",
      "_view_name": "StyleView",
      "background": null,
      "description_width": "",
      "font_size": null,
      "text_color": null
     }
    }
   }
  }
 },
 "cells": [
  {
   "cell_type": "markdown",
   "source": [
    "Perform CIFAR10 classification using Neural Netwroks and Convolutional Neural Networks.\n",
    "\n",
    "1) Use 10 iterations for training\n",
    "\n",
    "\n",
    "2) Show the training loss for both networks on the same plot\n",
    "\n",
    "\n",
    "3) Compare the test loss and accuracy."
   ],
   "metadata": {
    "id": "e_mMw1jKdhNI",
    "pycharm": {
     "name": "#%% md\n"
    }
   }
  },
  {
   "cell_type": "code",
   "execution_count": 1,
   "metadata": {
    "id": "FD6fwO1ddbEU",
    "pycharm": {
     "name": "#%%\n"
    }
   },
   "outputs": [],
   "source": [
    "import torch\n",
    "import torch.nn as nn\n",
    "import torch.nn.functional as F\n",
    "import torch.optim as optim\n",
    "import numpy as np\n",
    "import matplotlib.pyplot as plt\n",
    "from torchvision import models,transforms\n",
    "from torchvision.utils import make_grid\n",
    "from torchvision.datasets import CIFAR10\n",
    "from torch.utils.data.sampler import SubsetRandomSampler\n",
    "from torch.utils.tensorboard import SummaryWriter\n",
    "from torchsummary import summary\n"
   ]
  },
  {
   "cell_type": "code",
   "source": [
    "# CIFAR10\n",
    "def cifar10(batch_sz, path='./datasets'):\n",
    "    num_classes = 10\n",
    "    transform_train = transforms.Compose([\n",
    "                        transforms.RandomCrop(32, padding=4),\n",
    "                        transforms.RandomHorizontalFlip(),\n",
    "                        transforms.ToTensor(),\n",
    "                    ])\n",
    "    transform_test = transforms.Compose([\n",
    "                        transforms.ToTensor(),\n",
    "                    ])\n",
    "\n",
    "    # Training dataset\n",
    "    train_data = CIFAR10(root=path, train=True, download=True, transform=transform_train)\n",
    "    train_loader = torch.utils.data.DataLoader(train_data, batch_size=batch_sz,\n",
    "                                               shuffle=True, pin_memory=True)\n",
    "\n",
    "    # Test dataset\n",
    "    test_data = CIFAR10(root=path, train=False, download=True, transform=transform_test)\n",
    "    test_loader = torch.utils.data.DataLoader(test_data,\n",
    "                                              batch_size=batch_sz, shuffle=False, pin_memory=True)\n",
    "\n",
    "    return train_loader, test_loader, num_classes\n"
   ],
   "metadata": {
    "id": "L6xbtkeiecRm",
    "pycharm": {
     "name": "#%%\n"
    }
   },
   "execution_count": 2,
   "outputs": []
  },
  {
   "cell_type": "code",
   "source": [
    "batch_sz=64 # this is batch size i.e. the number of rows in a batch of data\n",
    "train_loader, test_loader, _=cifar10(batch_sz) "
   ],
   "metadata": {
    "id": "u3fKOo5negms",
    "colab": {
     "base_uri": "https://localhost:8080/",
     "height": 68,
     "referenced_widgets": [
      "1d49e4e26c4949ab8fbc57f7ff241e2d",
      "6236dbfe59694124894b4fb9a9d1af88",
      "79545b1049434b1ba8a7f6f44a4dc143",
      "0d54ab78c22d403b8708636deb96227a",
      "984401f374e54a8b8f972f364766ce25",
      "a276568e6e294cd1b0e0e45620b01c3b",
      "1ef8b435bf34456fbe44a783e3f208da",
      "69894e62661d47bf9b4832a937bcaaea",
      "2fe8058c0665453ab29dedfea9c7a2c7",
      "69ba24906fca420ab3a304001a719e14",
      "b6649be4f9ac43649f24c206a3a659fc"
     ]
    },
    "outputId": "2649ff63-a846-4c6e-afa1-3f6c4254ba1c",
    "pycharm": {
     "name": "#%%\n"
    }
   },
   "execution_count": 3,
   "outputs": [
    {
     "output_type": "stream",
     "name": "stdout",
     "text": [
      "Downloading https://www.cs.toronto.edu/~kriz/cifar-10-python.tar.gz to ./datasets/cifar-10-python.tar.gz\n"
     ]
    },
    {
     "output_type": "display_data",
     "data": {
      "text/plain": [
       "  0%|          | 0/170498071 [00:00<?, ?it/s]"
      ],
      "application/vnd.jupyter.widget-view+json": {
       "version_major": 2,
       "version_minor": 0,
       "model_id": "1d49e4e26c4949ab8fbc57f7ff241e2d"
      },
      "application/json": {
       "n": 0,
       "total": 170498071,
       "elapsed": 0.018477678298950195,
       "ncols": null,
       "nrows": null,
       "prefix": "",
       "ascii": false,
       "unit": "it",
       "unit_scale": false,
       "rate": null,
       "bar_format": null,
       "postfix": null,
       "unit_divisor": 1000,
       "initial": 0,
       "colour": null
      }
     },
     "metadata": {}
    },
    {
     "output_type": "stream",
     "name": "stdout",
     "text": [
      "Extracting ./datasets/cifar-10-python.tar.gz to ./datasets\n",
      "Files already downloaded and verified\n"
     ]
    }
   ]
  },
  {
   "cell_type": "code",
   "source": [
    "class CNN(nn.Module):\n",
    "  def __init__(self):\n",
    "      super().__init__()\n",
    "      self.conv1 = nn.Conv2d(3, 10, 5, 1)\n",
    "      self.conv2 = nn.Conv2d(10, 50, 5, 1)\n",
    "      self.linear1 = nn.Linear(5 * 5 * 50, 100)\n",
    "      self.linear2 = nn.Linear(100, 10)\n",
    "      self.maxpool = nn.MaxPool2d((2, 2))\n",
    "\n",
    "  def forward(self, x):\n",
    "    #feature extracter\n",
    "    x = self.conv1(x)\n",
    "    x = F.relu(x)\n",
    "    x = self.maxpool(x)\n",
    "    x = self.conv2(x)\n",
    "    x = F.relu(x)\n",
    "    x = self.maxpool(x)\n",
    "\n",
    "    x = x.view(-1, 5*5*50)\n",
    "\n",
    "    #classifier\n",
    "    x = self.linear1(x)\n",
    "    x = F.relu(x)\n",
    "    x = self.linear2(x)\n",
    "    return(x)\n",
    "\n",
    "device = torch.device(\"cuda:0\")\n",
    "net = CNN()\n",
    "net = net.to(device)\n",
    "\n",
    "epochs = 10\n",
    "lr = 0.1\n",
    "mm = 0.5\n",
    "\n",
    "ls = []\n",
    "optimizer = optim.SGD(net.parameters(), lr = lr, momentum = mm)\n",
    "schduler = optim.lr_scheduler.ExponentialLR(optimizer, 0.9, verbose = False)\n",
    "loss_fn = nn.CrossEntropyLoss()\n",
    "\n",
    "for i in range(epochs):\n",
    "  total_loss = 0\n",
    "  for batch in train_loader:\n",
    "    X, y = batch[0].to(device),batch[1].to(device)\n",
    "    logits = net(X)\n",
    "    loss = loss_fn(logits, y)\n",
    "    total_loss += loss.item()\n",
    "\n",
    "    optimizer.zero_grad()\n",
    "    loss.backward()\n",
    "    optimizer.step()\n",
    "  schduler.step()\n",
    "  ls.append(total_loss)\n"
   ],
   "metadata": {
    "id": "paN7F1HqzrBL",
    "pycharm": {
     "name": "#%%\n"
    }
   },
   "execution_count": 5,
   "outputs": []
  },
  {
   "cell_type": "code",
   "source": [
    "plt.plot(ls)\n",
    "print(ls)"
   ],
   "metadata": {
    "colab": {
     "base_uri": "https://localhost:8080/",
     "height": 302
    },
    "id": "xL-S_aJY3V8q",
    "outputId": "71190366-00c0-4f69-f915-152693ba9c6e",
    "pycharm": {
     "name": "#%%\n"
    }
   },
   "execution_count": 11,
   "outputs": [
    {
     "output_type": "stream",
     "name": "stdout",
     "text": [
      "[1534.6963685750961, 1248.1029510498047, 1128.7602396011353, 1052.7759202718735, 991.1123840808868, 944.7999786138535, 907.3932639360428, 861.0329834222794, 833.2556660175323, 809.2068546414375]\n"
     ]
    },
    {
     "output_type": "display_data",
     "data": {
      "text/plain": [
       "<Figure size 432x288 with 1 Axes>"
      ],
      "image/png": "[encoded data removed]"
     },
     "metadata": {
      "needs_background": "light"
     }
    }
   ]
  },
  {
   "cell_type": "code",
   "source": [
    "class NN(nn.Module):\n",
    "  def __init__(self, ni, nh, no):\n",
    "    super().__init__()\n",
    "    self.l1 = nn.Linear(ni, nh)\n",
    "    self.l2 = nn.Linear(nh, no)\n",
    "\n",
    "  def forward(self, x):\n",
    "    x = x.view(-1, 32*32*3)\n",
    "    x = self.l1(x)\n",
    "    x = torch.sigmoid(x)\n",
    "    x = self.l2(x)\n",
    "    return x\n",
    "\n",
    "ni = 32*32*3\n",
    "nh = 100\n",
    "no = 10\n",
    "\n",
    "lr1 = 0.5\n",
    "mm1 = 0.5\n",
    "epochs1 = 10\n",
    "\n",
    "ls1 = []\n",
    "\n",
    "device1 = torch.device(\"cuda:0\")\n",
    "net1 = NN(ni, nh, no)\n",
    "net1 = net1.to(device1)\n",
    "\n",
    "optimizer = optim.SGD(net1.parameters(), lr = lr1, momentum = mm1)\n",
    "\n",
    "loss_fn = nn.CrossEntropyLoss()\n",
    " \n",
    "for i in range(epochs1):\n",
    "  total_loss = 0\n",
    "  for batch in train_loader:\n",
    "    X, y = batch[0].to(device1), batch[1].to(device1)\n",
    "    #print(y.shape)\n",
    "    logits = net1(X)\n",
    "    #print(logits.shape)\n",
    "    loss = loss_fn(logits, y)\n",
    "    total_loss += loss.item()\n",
    "\n",
    "    optimizer.zero_grad()\n",
    "    loss.backward()\n",
    "    optimizer.step()\n",
    "  ls1.append(total_loss)\n"
   ],
   "metadata": {
    "id": "aX8Ic4-Zzy03",
    "pycharm": {
     "name": "#%%\n"
    }
   },
   "execution_count": null,
   "outputs": []
  },
  {
   "cell_type": "code",
   "source": [
    "print(\"The loss of NN:\")\n",
    "print(ls1)\n",
    "plt.plot(ls1)\n",
    "print(\"The loss of CNN:\")\n",
    "print(ls)\n",
    "plt.plot(ls)"
   ],
   "metadata": {
    "colab": {
     "base_uri": "https://localhost:8080/",
     "height": 373
    },
    "id": "042B5REc0cAm",
    "outputId": "ac4b6258-44e7-491f-992b-b21e6d190245",
    "pycharm": {
     "name": "#%%\n"
    }
   },
   "execution_count": 16,
   "outputs": [
    {
     "output_type": "stream",
     "name": "stdout",
     "text": [
      "The loss of NN:\n",
      "[1566.5104293823242, 1482.7908771038055, 1472.4085911512375, 1463.3001182079315, 1450.4732344150543, 1433.8853203058243, 1420.4951043128967, 1421.7915414571762, 1408.0351996421814, 1405.3462368249893]\n",
      "The loss of CNN:\n",
      "[1534.6963685750961, 1248.1029510498047, 1128.7602396011353, 1052.7759202718735, 991.1123840808868, 944.7999786138535, 907.3932639360428, 861.0329834222794, 833.2556660175323, 809.2068546414375]\n"
     ]
    },
    {
     "output_type": "execute_result",
     "data": {
      "text/plain": [
       "[<matplotlib.lines.Line2D at 0x7f3ed012e990>]"
      ]
     },
     "metadata": {},
     "execution_count": 16
    },
    {
     "output_type": "display_data",
     "data": {
      "text/plain": [
       "<Figure size 432x288 with 1 Axes>"
      ],
      "image/png": "[encoded data removed]"
     },
     "metadata": {
      "needs_background": "light"
     }
    }
   ]
  },
  {
   "cell_type": "markdown",
   "source": [
    "From the picture above we can conclude the loss of CNN is much better than NN."
   ],
   "metadata": {
    "id": "NxWk0qn65yEd",
    "pycharm": {
     "name": "#%% md\n"
    }
   }
  },
  {
   "cell_type": "code",
   "source": [
    "!pip install torchmetrics"
   ],
   "metadata": {
    "colab": {
     "base_uri": "https://localhost:8080/"
    },
    "id": "5LuvgH_I5bvM",
    "outputId": "e2eba300-df8c-45cf-eadd-1327d3361b0a",
    "pycharm": {
     "name": "#%%\n"
    }
   },
   "execution_count": 17,
   "outputs": [
    {
     "output_type": "stream",
     "name": "stdout",
     "text": [
      "Looking in indexes: https://pypi.org/simple, https://us-python.pkg.dev/colab-wheels/public/simple/\n",
      "Collecting torchmetrics\n",
      "  Downloading torchmetrics-0.9.3-py3-none-any.whl (419 kB)\n",
      "\u001B[?25l\r\u001B[K     |▉                               | 10 kB 26.5 MB/s eta 0:00:01\r\u001B[K     |█▋                              | 20 kB 32.5 MB/s eta 0:00:01\r\u001B[K     |██▍                             | 30 kB 36.6 MB/s eta 0:00:01\r\u001B[K     |███▏                            | 40 kB 28.4 MB/s eta 0:00:01\r\u001B[K     |████                            | 51 kB 31.9 MB/s eta 0:00:01\r\u001B[K     |████▊                           | 61 kB 35.5 MB/s eta 0:00:01\r\u001B[K     |█████▌                          | 71 kB 29.2 MB/s eta 0:00:01\r\u001B[K     |██████▎                         | 81 kB 30.0 MB/s eta 0:00:01\r\u001B[K     |███████                         | 92 kB 31.9 MB/s eta 0:00:01\r\u001B[K     |███████▉                        | 102 kB 33.8 MB/s eta 0:00:01\r\u001B[K     |████████▋                       | 112 kB 33.8 MB/s eta 0:00:01\r\u001B[K     |█████████▍                      | 122 kB 33.8 MB/s eta 0:00:01\r\u001B[K     |██████████▏                     | 133 kB 33.8 MB/s eta 0:00:01\r\u001B[K     |███████████                     | 143 kB 33.8 MB/s eta 0:00:01\r\u001B[K     |███████████▊                    | 153 kB 33.8 MB/s eta 0:00:01\r\u001B[K     |████████████▌                   | 163 kB 33.8 MB/s eta 0:00:01\r\u001B[K     |█████████████▎                  | 174 kB 33.8 MB/s eta 0:00:01\r\u001B[K     |██████████████                  | 184 kB 33.8 MB/s eta 0:00:01\r\u001B[K     |██████████████▉                 | 194 kB 33.8 MB/s eta 0:00:01\r\u001B[K     |███████████████▋                | 204 kB 33.8 MB/s eta 0:00:01\r\u001B[K     |████████████████▍               | 215 kB 33.8 MB/s eta 0:00:01\r\u001B[K     |█████████████████▏              | 225 kB 33.8 MB/s eta 0:00:01\r\u001B[K     |██████████████████              | 235 kB 33.8 MB/s eta 0:00:01\r\u001B[K     |██████████████████▊             | 245 kB 33.8 MB/s eta 0:00:01\r\u001B[K     |███████████████████▌            | 256 kB 33.8 MB/s eta 0:00:01\r\u001B[K     |████████████████████▎           | 266 kB 33.8 MB/s eta 0:00:01\r\u001B[K     |█████████████████████           | 276 kB 33.8 MB/s eta 0:00:01\r\u001B[K     |█████████████████████▉          | 286 kB 33.8 MB/s eta 0:00:01\r\u001B[K     |██████████████████████▋         | 296 kB 33.8 MB/s eta 0:00:01\r\u001B[K     |███████████████████████▍        | 307 kB 33.8 MB/s eta 0:00:01\r\u001B[K     |████████████████████████▏       | 317 kB 33.8 MB/s eta 0:00:01\r\u001B[K     |█████████████████████████       | 327 kB 33.8 MB/s eta 0:00:01\r\u001B[K     |█████████████████████████▊      | 337 kB 33.8 MB/s eta 0:00:01\r\u001B[K     |██████████████████████████▌     | 348 kB 33.8 MB/s eta 0:00:01\r\u001B[K     |███████████████████████████▍    | 358 kB 33.8 MB/s eta 0:00:01\r\u001B[K     |████████████████████████████▏   | 368 kB 33.8 MB/s eta 0:00:01\r\u001B[K     |█████████████████████████████   | 378 kB 33.8 MB/s eta 0:00:01\r\u001B[K     |█████████████████████████████▊  | 389 kB 33.8 MB/s eta 0:00:01\r\u001B[K     |██████████████████████████████▌ | 399 kB 33.8 MB/s eta 0:00:01\r\u001B[K     |███████████████████████████████▎| 409 kB 33.8 MB/s eta 0:00:01\r\u001B[K     |████████████████████████████████| 419 kB 33.8 MB/s \n",
      "\u001B[?25hRequirement already satisfied: typing-extensions in /usr/local/lib/python3.7/dist-packages (from torchmetrics) (4.1.1)\n",
      "Requirement already satisfied: packaging in /usr/local/lib/python3.7/dist-packages (from torchmetrics) (21.3)\n",
      "Requirement already satisfied: torch>=1.3.1 in /usr/local/lib/python3.7/dist-packages (from torchmetrics) (1.12.1+cu113)\n",
      "Requirement already satisfied: numpy>=1.17.2 in /usr/local/lib/python3.7/dist-packages (from torchmetrics) (1.21.6)\n",
      "Requirement already satisfied: pyparsing!=3.0.5,>=2.0.2 in /usr/local/lib/python3.7/dist-packages (from packaging->torchmetrics) (3.0.9)\n",
      "Installing collected packages: torchmetrics\n",
      "Successfully installed torchmetrics-0.9.3\n"
     ]
    }
   ]
  },
  {
   "cell_type": "code",
   "source": [
    "import torchmetrics as tm\n",
    "acc1 = []\n",
    "accuracy1 = tm.Accuracy()\n",
    "for batch in test_loader:\n",
    "  X, y = batch[0].to(device), batch[1].to(device)\n",
    "  logits = net1(X)\n",
    "  yhat = torch.argmax(logits, axis = 1)\n",
    "  a = accuracy1(yhat.to(\"cpu\"), y.to(\"cpu\"))\n",
    "  acc1.append(a)\n",
    "\n",
    "plt.plot(acc1)\n",
    "print(np.mean(acc1))\n",
    "plt.figure()\n",
    "acc = []\n",
    "accuracy = tm.Accuracy()\n",
    "for batch in test_loader:\n",
    "  X, y = batch[0].to(device), batch[1].to(device)\n",
    "  logits = net(X)\n",
    "  yhat = torch.argmax(logits, axis = 1)\n",
    "  a = accuracy(yhat.to(\"cpu\"), y.to(\"cpu\"))\n",
    "  acc.append(a)\n",
    "\n",
    "plt.plot(acc)\n",
    "print(np.mean(acc))\n",
    "plt.figure()\n"
   ],
   "metadata": {
    "colab": {
     "base_uri": "https://localhost:8080/",
     "height": 581
    },
    "id": "c-rEkMNg5d7R",
    "outputId": "33288d20-873b-415d-c982-181bcfad3cc0",
    "pycharm": {
     "name": "#%%\n"
    }
   },
   "execution_count": 18,
   "outputs": [
    {
     "output_type": "stream",
     "name": "stdout",
     "text": [
      "0.32165605\n",
      "0.66769505\n"
     ]
    },
    {
     "output_type": "execute_result",
     "data": {
      "text/plain": [
       "<Figure size 432x288 with 0 Axes>"
      ]
     },
     "metadata": {},
     "execution_count": 18
    },
    {
     "output_type": "display_data",
     "data": {
      "text/plain": [
       "<Figure size 432x288 with 1 Axes>"
      ],
      "image/png": "[encoded data removed]"
     },
     "metadata": {
      "needs_background": "light"
     }
    },
    {
     "output_type": "display_data",
     "data": {
      "text/plain": [
       "<Figure size 432x288 with 1 Axes>"
      ],
      "image/png": "[encoded data removed]"
     },
     "metadata": {
      "needs_background": "light"
     }
    },
    {
     "output_type": "display_data",
     "data": {
      "text/plain": [
       "<Figure size 432x288 with 0 Axes>"
      ]
     },
     "metadata": {}
    }
   ]
  },
  {
   "cell_type": "markdown",
   "source": [
    "From the pictures above we can see the accuracy of CNN is higher than NN."
   ],
   "metadata": {
    "id": "mrsLlxhq5iS6",
    "pycharm": {
     "name": "#%% md\n"
    }
   }
  }
 ]
}