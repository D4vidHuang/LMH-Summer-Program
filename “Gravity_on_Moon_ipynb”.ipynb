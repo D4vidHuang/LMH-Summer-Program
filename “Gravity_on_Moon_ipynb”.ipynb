{
 "cells": [
  {
   "cell_type": "code",
   "execution_count": 1,
   "metadata": {
    "colab": {
     "base_uri": "https://localhost:8080/",
     "height": 282
    },
    "id": "cx4pkfo5xeEv",
    "outputId": "ec32ed8d-67a7-4849-b565-a2b9e35d3a90",
    "pycharm": {
     "name": "#%%\n"
    }
   },
   "outputs": [
    {
     "data": {
      "text/plain": "[<matplotlib.lines.Line2D at 0x7fef18e3fd60>]"
     },
     "execution_count": 1,
     "metadata": {},
     "output_type": "execute_result"
    },
    {
     "data": {
      "text/plain": "<Figure size 432x288 with 1 Axes>",
      "image/png": "[encoded data removed]"
     },
     "metadata": {
      "needs_background": "light"
     },
     "output_type": "display_data"
    }
   ],
   "source": [
    "#[Fictional Story] The astronauts on moon wanted to measure the value of gravity on the moon. The decide to throw a spanner \n",
    "#from different heights and measure the time needed to cover the distance and based on these values want to extract the value of \n",
    "#gravity on moon. The values might be slightly off due to human error and the (very thin) moon atmosphere. Use linear regression to \n",
    "#find the value of gravity on the moon.\n",
    "\n",
    "\n",
    "\n",
    "import matplotlib.pyplot as plt\n",
    "import numpy as np\n",
    "import math\n",
    "pi=math.pi\n",
    "\n",
    "\n",
    "gmoon=9.8/6\n",
    "t=np.linspace(1,3,20)\n",
    "s=0.5*gmoon*t**2 + 0.05*np.random.randn(t.size)\n",
    "plt.plot(t,s,'bo')"
   ]
  },
  {
   "cell_type": "code",
   "execution_count": 2,
   "metadata": {
    "colab": {
     "base_uri": "https://localhost:8080/",
     "height": 469
    },
    "id": "SERJcoUE2O9b",
    "outputId": "0bc57c8f-20b6-4da1-9461-2f6641752082",
    "pycharm": {
     "name": "#%%\n"
    }
   },
   "outputs": [
    {
     "data": {
      "text/plain": "[<matplotlib.lines.Line2D at 0x7feef8480700>,\n <matplotlib.lines.Line2D at 0x7feef84807c0>]"
     },
     "execution_count": 2,
     "metadata": {},
     "output_type": "execute_result"
    },
    {
     "data": {
      "text/plain": "<Figure size 432x288 with 1 Axes>",
      "image/png": "[encoded data removed]"
     },
     "metadata": {
      "needs_background": "light"
     },
     "output_type": "display_data"
    }
   ],
   "source": [
    "import matplotlib.pyplot as plt\n",
    "import numpy as np\n",
    "import math\n",
    "pi=math.pi\n",
    "\n",
    "\n",
    "gmoon=9.8/6\n",
    "t=np.linspace(1,3,20)\n",
    "s=0.5*gmoon*t**2 + 0.05*np.random.randn(t.size)\n",
    "plt.plot(t,s,'bo')\n",
    "#inspired by the class note of Mr.Khan and also an unknown student met in Room Monson\n",
    "nb = 2\n",
    "X = []\n",
    "for i in range(nb+1):\n",
    "  X.append(t**i)\n",
    "\n",
    "t = np.reshape(t,(t.shape[0],1)) \n",
    "X = np.array(X).T\n",
    "w = np.linalg.inv(X.T@X) @ (X.T@s)\n",
    "yhat = X@w\n",
    "plt.plot(t, s, 'bo', t, yhat)"
   ]
  }
 ],
 "metadata": {
  "colab": {
   "collapsed_sections": [],
   "name": "“Gravity_on_Moon.ipynb”",
   "provenance": []
  },
  "kernelspec": {
   "display_name": "Python 3.10.4 64-bit",
   "language": "python",
   "name": "python3"
  },
  "language_info": {
   "name": "python",
   "version": "3.10.4"
  },
  "vscode": {
   "interpreter": {
    "hash": "aee8b7b246df8f9039afb4144a1f6fd8d2ca17a180786b69acc140d282b71a49"
   }
  }
 },
 "nbformat": 4,
 "nbformat_minor": 0
}