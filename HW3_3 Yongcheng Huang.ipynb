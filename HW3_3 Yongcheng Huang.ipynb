{
  "nbformat": 4,
  "nbformat_minor": 0,
  "metadata": {
    "colab": {
      "name": "HW3_3_ipynb_1(1).ipynb",
      "provenance": [],
      "collapsed_sections": []
    },
    "kernelspec": {
      "name": "python3",
      "display_name": "Python 3"
    },
    "language_info": {
      "name": "python"
    },
    "accelerator": "GPU",
    "gpuClass": "standard"
  },
  "cells": [
    {
      "cell_type": "markdown",
      "source": [
        "Perform CIFAR10 classification using ResNet18.\n",
        "\n",
        "1) Train ResNet18 from Scratch\n",
        "\n",
        "\n",
        "2) Finetune ResNet from Pretarined network on ImageNet\n",
        "\n",
        "#take a Resnet model trained using imagenet and fine-tune it on CIFAR10\n",
        "\n",
        "**The running time should be about 8 minites.**"
      ],
      "metadata": {
        "id": "e_mMw1jKdhNI"
      }
    },
    {
      "cell_type": "code",
      "execution_count": 23,
      "metadata": {
        "id": "FD6fwO1ddbEU"
      },
      "outputs": [],
      "source": [
        "import torch\n",
        "import torch.nn as nn\n",
        "import torch.nn.functional as F\n",
        "import torch.optim as optim\n",
        "import numpy as np\n",
        "import matplotlib.pyplot as plt\n",
        "from torchvision import models,transforms\n",
        "from torchvision.utils import make_grid\n",
        "from torchvision.datasets import CIFAR10\n",
        "from torch.utils.data.sampler import SubsetRandomSampler\n",
        "from torch.utils.tensorboard import SummaryWriter\n",
        "from torchsummary import summary\n",
        "from torch.optim import lr_scheduler \n"
      ]
    },
    {
      "cell_type": "code",
      "source": [
        "# CIFAR10\n",
        "def cifar10(batch_sz, path='./datasets'):\n",
        "    num_classes = 10\n",
        "    transform_train = transforms.Compose([\n",
        "                        transforms.RandomCrop(32, padding=4),\n",
        "                        transforms.RandomHorizontalFlip(),\n",
        "                        transforms.ToTensor(),\n",
        "                    ])\n",
        "    transform_test = transforms.Compose([\n",
        "                        transforms.ToTensor(),\n",
        "                    ])\n",
        "\n",
        "    # Training dataset\n",
        "    train_data = CIFAR10(root=path, train=True, download=True, transform=transform_train)\n",
        "    train_loader = torch.utils.data.DataLoader(train_data, batch_size=batch_sz,\n",
        "                                               shuffle=True, pin_memory=True)\n",
        "\n",
        "    # Test dataset\n",
        "    test_data = CIFAR10(root=path, train=False, download=True, transform=transform_test)\n",
        "    test_loader = torch.utils.data.DataLoader(test_data,\n",
        "                                              batch_size=batch_sz, shuffle=False, pin_memory=True)\n",
        "\n",
        "    return train_loader, test_loader, num_classes\n"
      ],
      "metadata": {
        "id": "L6xbtkeiecRm"
      },
      "execution_count": 24,
      "outputs": []
    },
    {
      "cell_type": "code",
      "source": [
        "batch_sz=64 # this is batch size i.e. the number of rows in a batch of data\n",
        "train_loader, test_loader, _=cifar10(batch_sz) "
      ],
      "metadata": {
        "id": "u3fKOo5negms",
        "outputId": "db0131d9-3e32-4352-bc63-32b9bddaddab",
        "colab": {
          "base_uri": "https://localhost:8080/"
        }
      },
      "execution_count": 25,
      "outputs": [
        {
          "output_type": "stream",
          "name": "stdout",
          "text": [
            "Files already downloaded and verified\n",
            "Files already downloaded and verified\n"
          ]
        }
      ]
    },
    {
      "cell_type": "markdown",
      "source": [
        "The ResNet18 below is trained from scratch."
      ],
      "metadata": {
        "id": "XS7K3YIMyaiu"
      }
    },
    {
      "cell_type": "code",
      "source": [
        "device = torch.device(\"cuda:0\")\n",
        "\n",
        "net = models.resnet18(num_classes = 10)\n",
        "net.conv1 = nn.Conv2d(3, 64, kernel_size=(5, 5), stride=(2, 2), padding=(3, 3), bias=False)\n",
        "net = net.to(device)\n",
        "\n",
        "num_epochs = 10\n",
        "lr = 0.1\n",
        "mm = 0.5\n",
        "\n",
        "ls = []\n",
        "optimizer = optim.SGD(net.parameters(), lr = lr, momentum = mm)\n",
        "schduler = optim.lr_scheduler.ExponentialLR(optimizer, 0.9, verbose = True)\n",
        "loss_fn = nn.CrossEntropyLoss()\n",
        "\n",
        "for i in range(num_epochs):\n",
        "  total_loss = 0\n",
        "  '''running_loss = 0.0\n",
        "  running_corrects = 0'''\n",
        "\n",
        "  for batch in train_loader:\n",
        "    X, y = batch[0].to(device),batch[1].to(device)\n",
        "    logits = net(X)\n",
        "    loss = loss_fn(logits, y)\n",
        "    total_loss += loss.item()\n",
        "\n",
        "    optimizer.zero_grad()\n",
        "    loss.backward()\n",
        "    optimizer.step()\n",
        "    '''_, preds = torch.max(logits, 1)\n",
        "    running_loss += loss.item() * X.size(0)\n",
        "    running_corrects += torch.sum(preds == y.data)'''\n",
        "  schduler.step()\n",
        "  ls.append(total_loss)\n",
        "  '''epoch_loss = running_loss / len(train_loader.dataset)\n",
        "  epoch_acc = running_corrects.double() / len(train_loader.dataset)\n",
        "\n",
        "  print('Loss: {:.4f} Acc: {:.4f}'.format(epoch_loss, epoch_acc))'''\n",
        "\n",
        "plt.plot(ls)"
      ],
      "metadata": {
        "id": "rya-pTzm7twC",
        "outputId": "e5a67f92-e896-4254-8ad9-a5f07ecef495",
        "colab": {
          "base_uri": "https://localhost:8080/",
          "height": 669
        }
      },
      "execution_count": 26,
      "outputs": [
        {
          "output_type": "stream",
          "name": "stdout",
          "text": [
            "Adjusting learning rate of group 0 to 1.0000e-01.\n",
            "Adjusting learning rate of group 0 to 9.0000e-02.\n",
            "Loss: 1.6659 Acc: 0.4030\n",
            "Adjusting learning rate of group 0 to 8.1000e-02.\n",
            "Loss: 1.1968 Acc: 0.5690\n",
            "Adjusting learning rate of group 0 to 7.2900e-02.\n",
            "Loss: 1.0127 Acc: 0.6399\n",
            "Adjusting learning rate of group 0 to 6.5610e-02.\n",
            "Loss: 0.8976 Acc: 0.6828\n",
            "Adjusting learning rate of group 0 to 5.9049e-02.\n",
            "Loss: 0.8151 Acc: 0.7153\n",
            "Adjusting learning rate of group 0 to 5.3144e-02.\n",
            "Loss: 0.7590 Acc: 0.7320\n",
            "Adjusting learning rate of group 0 to 4.7830e-02.\n",
            "Loss: 0.7016 Acc: 0.7526\n",
            "Adjusting learning rate of group 0 to 4.3047e-02.\n",
            "Loss: 0.6644 Acc: 0.7677\n",
            "Adjusting learning rate of group 0 to 3.8742e-02.\n",
            "Loss: 0.6209 Acc: 0.7812\n",
            "Adjusting learning rate of group 0 to 3.4868e-02.\n",
            "Loss: 0.5901 Acc: 0.7906\n"
          ]
        },
        {
          "output_type": "execute_result",
          "data": {
            "text/plain": [
              "[<matplotlib.lines.Line2D at 0x7f74e0af5ed0>]"
            ]
          },
          "metadata": {},
          "execution_count": 26
        },
        {
          "output_type": "display_data",
          "data": {
            "text/plain": [
              "<Figure size 432x288 with 1 Axes>"
            ],
            "image/png": "[encoded data removed]"
          },
          "metadata": {
            "needs_background": "light"
          }
        }
      ]
    },
    {
      "cell_type": "markdown",
      "source": [
        "The ResNet18 below is pretrained."
      ],
      "metadata": {
        "id": "hXcszIKfzt4g"
      }
    },
    {
      "cell_type": "code",
      "source": [
        "def set_parameter_requires_grad(model, feature_extracting):\n",
        "    if feature_extracting:\n",
        "        for param in model.parameters():\n",
        "            param.requires_grad = False\n",
        "#---------------------------------------------------------Come from Jack Collins--------------------------------------------------------------"
      ],
      "metadata": {
        "id": "WvYgv8Jvd6vx"
      },
      "execution_count": 27,
      "outputs": []
    },
    {
      "cell_type": "code",
      "source": [
        "device = torch.device(\"cuda:0\")\n",
        "#Reference from:\n",
        "# https://pytorch.org/tutorials/beginner/transfer_learning_tutorial.html\n",
        "model_ft = models.resnet18(pretrained = True)\n",
        "set_parameter_requires_grad(model_ft, True)\n",
        "num_ftrs = model_ft.fc.in_features #add an new layer after the fully connect layer\n",
        "# Here the size of each output sample is set to 2.\n",
        "# Alternatively, it can be generalized to nn.Linear(num_ftrs, len(class_names)).\n",
        "model_ft.fc = nn.Linear(num_ftrs, 10)\n",
        "\n",
        "model_ft = model_ft.to(device)\n",
        "\n",
        "criterion = nn.CrossEntropyLoss()\n",
        "\n",
        "# Observe that all parameters are being optimized\n",
        "optimizer_ft = optim.SGD(model_ft.parameters(), lr=0.001, momentum=mm)\n",
        "\n",
        "# Decay LR by a factor of 0.1 every 7 epochs\n",
        "# Changed from 0.1 to 0.5 and it will change every 1 epoch\n",
        "#exp_lr_scheduler = lr_scheduler.StepLR(optimizer_ft, step_size=1, gamma=0.5)\n",
        "#-------------------------------------END---------------------------------------"
      ],
      "metadata": {
        "colab": {
          "base_uri": "https://localhost:8080/"
        },
        "id": "20TJHvIUQbr9",
        "outputId": "ce4eca6f-ca14-45df-80eb-85fcdcc60fbf"
      },
      "execution_count": 28,
      "outputs": [
        {
          "output_type": "stream",
          "name": "stderr",
          "text": [
            "/usr/local/lib/python3.7/dist-packages/torchvision/models/_utils.py:209: UserWarning: The parameter 'pretrained' is deprecated since 0.13 and will be removed in 0.15, please use 'weights' instead.\n",
            "  f\"The parameter '{pretrained_param}' is deprecated since 0.13 and will be removed in 0.15, \"\n",
            "/usr/local/lib/python3.7/dist-packages/torchvision/models/_utils.py:223: UserWarning: Arguments other than a weight enum or `None` for 'weights' are deprecated since 0.13 and will be removed in 0.15. The current behavior is equivalent to passing `weights=ResNet18_Weights.IMAGENET1K_V1`. You can also use `weights=ResNet18_Weights.DEFAULT` to get the most up-to-date weights.\n",
            "  warnings.warn(msg)\n"
          ]
        }
      ]
    },
    {
      "cell_type": "code",
      "source": [
        "\n",
        "num_epochs = 10\n",
        "lr = 0.1\n",
        "mm = 0.5\n",
        "\n",
        "ls1 = []\n",
        "\n",
        "for i in range(num_epochs):\n",
        "  total_loss = 0\n",
        "  '''running_loss1 = 0.0\n",
        "  running_corrects1 = 0'''\n",
        "  for batch in train_loader:\n",
        "    X, y = batch[0].to(device),batch[1].to(device)\n",
        "    logits = model_ft(X)\n",
        "    loss = criterion(logits, y)\n",
        "    total_loss += loss.item()\n",
        "\n",
        "    optimizer_ft.zero_grad()\n",
        "    loss.backward()\n",
        "    optimizer_ft.step()\n",
        "\n",
        "    '''_, preds = torch.max(logits, 1)\n",
        "    running_loss1 += loss.item() * X.size(0)\n",
        "    running_corrects1 += torch.sum(preds == y.data)'''\n",
        "  ls1.append(total_loss)\n",
        "  '''epoch_loss1 = running_loss1 / len(train_loader.dataset)\n",
        "  epoch_acc1 = running_corrects1.double() / len(train_loader.dataset)\n",
        "  print('Loss: {:.4f} Acc: {:.4f}'.format(epoch_loss, epoch_acc))'''\n",
        "\n",
        "plt.plot(ls1)"
      ],
      "metadata": {
        "colab": {
          "base_uri": "https://localhost:8080/",
          "height": 467
        },
        "id": "g3rGdJwBRvOS",
        "outputId": "073bfa82-4d95-43e0-e07a-368093969295"
      },
      "execution_count": 29,
      "outputs": [
        {
          "output_type": "stream",
          "name": "stdout",
          "text": [
            "Loss: 0.5901 Acc: 0.7906\n",
            "Loss: 0.5901 Acc: 0.7906\n",
            "Loss: 0.5901 Acc: 0.7906\n",
            "Loss: 0.5901 Acc: 0.7906\n",
            "Loss: 0.5901 Acc: 0.7906\n",
            "Loss: 0.5901 Acc: 0.7906\n",
            "Loss: 0.5901 Acc: 0.7906\n",
            "Loss: 0.5901 Acc: 0.7906\n",
            "Loss: 0.5901 Acc: 0.7906\n",
            "Loss: 0.5901 Acc: 0.7906\n"
          ]
        },
        {
          "output_type": "execute_result",
          "data": {
            "text/plain": [
              "[<matplotlib.lines.Line2D at 0x7f74e1a3db10>]"
            ]
          },
          "metadata": {},
          "execution_count": 29
        },
        {
          "output_type": "display_data",
          "data": {
            "text/plain": [
              "<Figure size 432x288 with 1 Axes>"
            ],
            "image/png": "[encoded data removed]"
          },
          "metadata": {
            "needs_background": "light"
          }
        }
      ]
    },
    {
      "cell_type": "code",
      "source": [
        "plt.plot(ls,'r')\n",
        "print(ls)\n",
        "plt.plot(ls1,'b')\n",
        "print(ls1)"
      ],
      "metadata": {
        "colab": {
          "base_uri": "https://localhost:8080/",
          "height": 302
        },
        "id": "iSbpn4NC1-S4",
        "outputId": "5b77edc1-8eac-4cc1-f9c0-aae0ff874f9e"
      },
      "execution_count": 30,
      "outputs": [
        {
          "output_type": "stream",
          "name": "stdout",
          "text": [
            "[1302.9739941358566, 935.5280427932739, 791.9366524815559, 701.7188182473183, 637.6487822830677, 593.8842412233353, 548.623844653368, 519.6115421652794, 485.53115195035934, 461.28062242269516]\n",
            "[1624.7571504116058, 1443.005013346672, 1388.787852525711, 1365.71080160141, 1348.8804100751877, 1339.079028248787, 1329.7581551074982, 1320.972112774849, 1320.117255806923, 1314.742687344551]\n"
          ]
        },
        {
          "output_type": "display_data",
          "data": {
            "text/plain": [
              "<Figure size 432x288 with 1 Axes>"
            ],
            "image/png": "[encoded data removed]"
          },
          "metadata": {
            "needs_background": "light"
          }
        }
      ]
    },
    {
      "cell_type": "code",
      "source": [
        "!pip install torchmetrics"
      ],
      "metadata": {
        "id": "8sSqlvSvAOMu",
        "colab": {
          "base_uri": "https://localhost:8080/"
        },
        "outputId": "ef33214b-92dd-4ec3-c507-011cafad8a0b"
      },
      "execution_count": 31,
      "outputs": [
        {
          "output_type": "stream",
          "name": "stdout",
          "text": [
            "Looking in indexes: https://pypi.org/simple, https://us-python.pkg.dev/colab-wheels/public/simple/\n",
            "Requirement already satisfied: torchmetrics in /usr/local/lib/python3.7/dist-packages (0.9.3)\n",
            "Requirement already satisfied: typing-extensions in /usr/local/lib/python3.7/dist-packages (from torchmetrics) (4.1.1)\n",
            "Requirement already satisfied: packaging in /usr/local/lib/python3.7/dist-packages (from torchmetrics) (21.3)\n",
            "Requirement already satisfied: torch>=1.3.1 in /usr/local/lib/python3.7/dist-packages (from torchmetrics) (1.12.1+cu113)\n",
            "Requirement already satisfied: numpy>=1.17.2 in /usr/local/lib/python3.7/dist-packages (from torchmetrics) (1.21.6)\n",
            "Requirement already satisfied: pyparsing!=3.0.5,>=2.0.2 in /usr/local/lib/python3.7/dist-packages (from packaging->torchmetrics) (3.0.9)\n"
          ]
        }
      ]
    },
    {
      "cell_type": "code",
      "source": [
        "import torchmetrics as tm\n",
        "acc = []\n",
        "accuracy = tm.Accuracy()\n",
        "for batch in test_loader:\n",
        "  X, y = batch[0].to(device), batch[1].to(device)\n",
        "  logits = net(X)\n",
        "  yhat = torch.argmax(logits, axis = 1)\n",
        "  a = accuracy(yhat.to(\"cpu\"), y.to(\"cpu\"))\n",
        "  acc.append(a)\n",
        "\n",
        "print(np.mean(acc))\n",
        "\n",
        "\n",
        "acc1 = []\n",
        "accuracy1 = tm.Accuracy()\n",
        "for batch in test_loader:\n",
        "  X, y = batch[0].to(device), batch[1].to(device)\n",
        "  logits = model_ft(X)\n",
        "  yhat = torch.argmax(logits, axis = 1)\n",
        "  a = accuracy1(yhat.to(\"cpu\"), y.to(\"cpu\"))\n",
        "  acc1.append(a)\n",
        "acc1_epoch = []\n",
        "\n",
        "print(np.mean(acc1))"
      ],
      "metadata": {
        "id": "h5penjU_AY65",
        "colab": {
          "base_uri": "https://localhost:8080/"
        },
        "outputId": "60b5cea4-2627-4b0f-bee2-738164de73f4"
      },
      "execution_count": 33,
      "outputs": [
        {
          "output_type": "stream",
          "name": "stdout",
          "text": [
            "0.778961\n",
            "0.41839173\n"
          ]
        }
      ]
    }
  ]
}